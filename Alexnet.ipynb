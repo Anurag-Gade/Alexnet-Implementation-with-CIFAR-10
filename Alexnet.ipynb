{
  "nbformat": 4,
  "nbformat_minor": 0,
  "metadata": {
    "colab": {
      "name": "Alexnet",
      "provenance": [],
      "collapsed_sections": [],
      "authorship_tag": "ABX9TyPNnGb5njDwyM4P3puPVMmD",
      "include_colab_link": true
    },
    "kernelspec": {
      "name": "python3",
      "display_name": "Python 3"
    },
    "language_info": {
      "name": "python"
    },
    "accelerator": "GPU"
  },
  "cells": [
    {
      "cell_type": "markdown",
      "metadata": {
        "id": "view-in-github",
        "colab_type": "text"
      },
      "source": [
        "<a href=\"https://colab.research.google.com/github/RedPastaSauce/Alexnet-Implementation-with-CIFAR-10/blob/main/Alexnet.ipynb\" target=\"_parent\"><img src=\"https://colab.research.google.com/assets/colab-badge.svg\" alt=\"Open In Colab\"/></a>"
      ]
    },
    {
      "cell_type": "code",
      "metadata": {
        "id": "W3awZfp5bo2L",
        "colab": {
          "base_uri": "https://localhost:8080/"
        },
        "outputId": "250d3df8-55e8-4041-bf7d-551bfbe52562"
      },
      "source": [
        "import tensorflow as tf\n",
        "from tensorflow import keras\n",
        "from tensorflow.keras.models import Sequential\n",
        "from tensorflow.keras.layers import Dense, Activation, Dropout, Flatten, Conv2D, MaxPooling2D, BatchNormalization\n",
        "dataset = keras.datasets.cifar100\n",
        "(x_train,y_train),(x_test,y_test) = dataset.load_data()\n",
        "x_train = x_train/255.0\n",
        "x_test = x_test/255.0\n",
        "model = tf.keras.models.Sequential()\n",
        "model.add(Conv2D(filters=96, input_shape=(32,32,3), kernel_size=(11,11), strides=(4,4), padding='valid'))\n",
        "model.add(Activation('relu'))\n",
        "model.add(MaxPooling2D(pool_size=(2,2), strides=(2,2), padding='valid'))\n",
        "model.add(BatchNormalization())\n",
        "model.add(Conv2D(filters=256, kernel_size=(5,5), strides=(1,1), padding='same'))\n",
        "model.add(Activation('relu'))\n",
        "model.add(MaxPooling2D(pool_size=(3,3), strides=(2,2), padding='valid'))\n",
        "model.add(BatchNormalization())\n",
        "model.add(Conv2D(filters=384, kernel_size=(3,3), strides=(1,1), padding='same'))\n",
        "model.add(Activation('relu'))\n",
        "model.add(BatchNormalization())\n",
        "model.add(Conv2D(filters=384, kernel_size=(3,3), strides=(1,1), padding='same'))\n",
        "model.add(Activation('relu'))\n",
        "model.add(BatchNormalization())\n",
        "model.add(Conv2D(filters=256, kernel_size=(3,3), strides=(1,1), padding='same'))\n",
        "model.add(Activation('relu'))\n",
        "model.add(MaxPooling2D(pool_size=(3,3), strides=(2,2), padding='same'))\n",
        "model.add(BatchNormalization())\n",
        "model.add(Flatten())\n",
        "model.add(Dense(4096, input_shape=(32*32*3,)))\n",
        "model.add(Activation('relu'))\n",
        "model.add(Dropout(0.4))\n",
        "model.add(BatchNormalization())\n",
        "model.add(Dense(4096))\n",
        "model.add(Activation('relu'))\n",
        "model.add(Dropout(0.4))\n",
        "model.add(BatchNormalization())\n",
        "model.add(Dense(1000))\n",
        "model.add(Activation('softmax'))\n",
        "\n",
        "model.summary()"
      ],
      "execution_count": 2,
      "outputs": [
        {
          "output_type": "stream",
          "text": [
            "Model: \"sequential\"\n",
            "_________________________________________________________________\n",
            "Layer (type)                 Output Shape              Param #   \n",
            "=================================================================\n",
            "conv2d (Conv2D)              (None, 6, 6, 96)          34944     \n",
            "_________________________________________________________________\n",
            "activation (Activation)      (None, 6, 6, 96)          0         \n",
            "_________________________________________________________________\n",
            "max_pooling2d (MaxPooling2D) (None, 3, 3, 96)          0         \n",
            "_________________________________________________________________\n",
            "batch_normalization (BatchNo (None, 3, 3, 96)          384       \n",
            "_________________________________________________________________\n",
            "conv2d_1 (Conv2D)            (None, 3, 3, 256)         614656    \n",
            "_________________________________________________________________\n",
            "activation_1 (Activation)    (None, 3, 3, 256)         0         \n",
            "_________________________________________________________________\n",
            "max_pooling2d_1 (MaxPooling2 (None, 1, 1, 256)         0         \n",
            "_________________________________________________________________\n",
            "batch_normalization_1 (Batch (None, 1, 1, 256)         1024      \n",
            "_________________________________________________________________\n",
            "conv2d_2 (Conv2D)            (None, 1, 1, 384)         885120    \n",
            "_________________________________________________________________\n",
            "activation_2 (Activation)    (None, 1, 1, 384)         0         \n",
            "_________________________________________________________________\n",
            "batch_normalization_2 (Batch (None, 1, 1, 384)         1536      \n",
            "_________________________________________________________________\n",
            "conv2d_3 (Conv2D)            (None, 1, 1, 384)         1327488   \n",
            "_________________________________________________________________\n",
            "activation_3 (Activation)    (None, 1, 1, 384)         0         \n",
            "_________________________________________________________________\n",
            "batch_normalization_3 (Batch (None, 1, 1, 384)         1536      \n",
            "_________________________________________________________________\n",
            "conv2d_4 (Conv2D)            (None, 1, 1, 256)         884992    \n",
            "_________________________________________________________________\n",
            "activation_4 (Activation)    (None, 1, 1, 256)         0         \n",
            "_________________________________________________________________\n",
            "max_pooling2d_2 (MaxPooling2 (None, 1, 1, 256)         0         \n",
            "_________________________________________________________________\n",
            "batch_normalization_4 (Batch (None, 1, 1, 256)         1024      \n",
            "_________________________________________________________________\n",
            "flatten (Flatten)            (None, 256)               0         \n",
            "_________________________________________________________________\n",
            "dense (Dense)                (None, 4096)              1052672   \n",
            "_________________________________________________________________\n",
            "activation_5 (Activation)    (None, 4096)              0         \n",
            "_________________________________________________________________\n",
            "dropout (Dropout)            (None, 4096)              0         \n",
            "_________________________________________________________________\n",
            "batch_normalization_5 (Batch (None, 4096)              16384     \n",
            "_________________________________________________________________\n",
            "dense_1 (Dense)              (None, 4096)              16781312  \n",
            "_________________________________________________________________\n",
            "activation_6 (Activation)    (None, 4096)              0         \n",
            "_________________________________________________________________\n",
            "dropout_1 (Dropout)          (None, 4096)              0         \n",
            "_________________________________________________________________\n",
            "batch_normalization_6 (Batch (None, 4096)              16384     \n",
            "_________________________________________________________________\n",
            "dense_2 (Dense)              (None, 1000)              4097000   \n",
            "_________________________________________________________________\n",
            "activation_7 (Activation)    (None, 1000)              0         \n",
            "=================================================================\n",
            "Total params: 25,716,456\n",
            "Trainable params: 25,697,320\n",
            "Non-trainable params: 19,136\n",
            "_________________________________________________________________\n"
          ],
          "name": "stdout"
        }
      ]
    },
    {
      "cell_type": "code",
      "metadata": {
        "colab": {
          "base_uri": "https://localhost:8080/"
        },
        "id": "aWpWVWeKb1j2",
        "outputId": "1bacd677-34ae-43b2-a7db-6bcda99cd4e8"
      },
      "source": [
        "model.compile(optimizer='adam', loss=keras.losses.sparse_categorical_crossentropy, metrics=['accuracy'])\n",
        "model.fit(x=x_train, y=y_train, batch_size=128, epochs=10, validation_data=(x_test, y_test))"
      ],
      "execution_count": 3,
      "outputs": [
        {
          "output_type": "stream",
          "text": [
            "Epoch 1/10\n",
            "391/391 [==============================] - 25s 57ms/step - loss: 4.8390 - accuracy: 0.0812 - val_loss: 5.1109 - val_accuracy: 0.0656\n",
            "Epoch 2/10\n",
            "391/391 [==============================] - 22s 56ms/step - loss: 4.0680 - accuracy: 0.1364 - val_loss: 8.1591 - val_accuracy: 0.0585\n",
            "Epoch 3/10\n",
            "391/391 [==============================] - 22s 55ms/step - loss: 3.9040 - accuracy: 0.1549 - val_loss: 4.2894 - val_accuracy: 0.1602\n",
            "Epoch 4/10\n",
            "391/391 [==============================] - 22s 56ms/step - loss: 3.7044 - accuracy: 0.1812 - val_loss: 5.5731 - val_accuracy: 0.0968\n",
            "Epoch 5/10\n",
            "391/391 [==============================] - 23s 58ms/step - loss: 3.5947 - accuracy: 0.1966 - val_loss: 3.8967 - val_accuracy: 0.1772\n",
            "Epoch 6/10\n",
            "391/391 [==============================] - 23s 58ms/step - loss: 3.5198 - accuracy: 0.2095 - val_loss: 5.9150 - val_accuracy: 0.0647\n",
            "Epoch 7/10\n",
            "391/391 [==============================] - 22s 57ms/step - loss: 3.3226 - accuracy: 0.2315 - val_loss: 3.6740 - val_accuracy: 0.1813\n",
            "Epoch 8/10\n",
            "391/391 [==============================] - 23s 58ms/step - loss: 3.4451 - accuracy: 0.2201 - val_loss: 6.4160 - val_accuracy: 0.0740\n",
            "Epoch 9/10\n",
            "391/391 [==============================] - 24s 60ms/step - loss: 3.3519 - accuracy: 0.2354 - val_loss: 7.2160 - val_accuracy: 0.0974\n",
            "Epoch 10/10\n",
            "391/391 [==============================] - 23s 58ms/step - loss: 3.3114 - accuracy: 0.2402 - val_loss: 4.2052 - val_accuracy: 0.1458\n"
          ],
          "name": "stdout"
        },
        {
          "output_type": "execute_result",
          "data": {
            "text/plain": [
              "<keras.callbacks.History at 0x7fb7e803f790>"
            ]
          },
          "metadata": {},
          "execution_count": 3
        }
      ]
    },
    {
      "cell_type": "code",
      "metadata": {
        "id": "jCCrk88xcV_0"
      },
      "source": [
        ""
      ],
      "execution_count": null,
      "outputs": []
    }
  ]
}